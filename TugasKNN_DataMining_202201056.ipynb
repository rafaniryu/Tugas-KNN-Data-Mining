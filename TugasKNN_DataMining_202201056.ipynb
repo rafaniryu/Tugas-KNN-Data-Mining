{
  "nbformat": 4,
  "nbformat_minor": 0,
  "metadata": {
    "colab": {
      "provenance": []
    },
    "kernelspec": {
      "name": "python3",
      "display_name": "Python 3"
    },
    "language_info": {
      "name": "python"
    }
  },
  "cells": [
    {
      "cell_type": "code",
      "execution_count": 22,
      "metadata": {
        "id": "N1l0j8LrTQt3"
      },
      "outputs": [],
      "source": [
        "import numpy as np\n",
        "import matplotlib.pyplot as plt\n",
        "import pandas as pd"
      ]
    },
    {
      "cell_type": "code",
      "source": [
        "# Membaca dataset\n",
        "dataset = pd.read_csv('Dataset_KNN_Pelanggan.csv')"
      ],
      "metadata": {
        "id": "JBlXf2fLUD2V"
      },
      "execution_count": 23,
      "outputs": []
    },
    {
      "cell_type": "code",
      "source": [
        "# Mengambil fitur dan label\n",
        "X = dataset.iloc[:, [0, 3]].values  # Umur dan Skor Belanja\n",
        "y = dataset.iloc[:, -1].values     # Kelas"
      ],
      "metadata": {
        "id": "hWOkMMsEUHgf"
      },
      "execution_count": 24,
      "outputs": []
    },
    {
      "cell_type": "code",
      "source": [
        "# Encode label menjadi angka\n",
        "from sklearn.preprocessing import LabelEncoder\n",
        "le = LabelEncoder()\n",
        "y = le.fit_transform(y)  # Loyal = 1, Tidak Loyal = 0"
      ],
      "metadata": {
        "id": "jyZGk7ulULYm"
      },
      "execution_count": 25,
      "outputs": []
    },
    {
      "cell_type": "code",
      "source": [
        "print(X)"
      ],
      "metadata": {
        "colab": {
          "base_uri": "https://localhost:8080/"
        },
        "id": "W_T72pwHVzmF",
        "outputId": "20cbf851-f4b2-4e65-eb76-a0d996f171ea"
      },
      "execution_count": 26,
      "outputs": [
        {
          "output_type": "stream",
          "name": "stdout",
          "text": [
            "[[58 36]\n",
            " [33 14]\n",
            " [61 12]\n",
            " [55 12]\n",
            " [31  4]\n",
            " [53 90]\n",
            " [52 76]\n",
            " [35 98]\n",
            " [28 36]\n",
            " [27 44]\n",
            " [24 46]\n",
            " [40 94]\n",
            " [47 11]\n",
            " [53 80]\n",
            " [41  9]\n",
            " [20 38]\n",
            " [23 49]\n",
            " [35 21]\n",
            " [41 35]\n",
            " [62 10]\n",
            " [56 94]\n",
            " [33 35]\n",
            " [58 88]\n",
            " [38  8]\n",
            " [32 52]\n",
            " [35 92]\n",
            " [38 51]\n",
            " [59 18]\n",
            " [33 34]\n",
            " [65 52]\n",
            " [41 66]\n",
            " [49 15]\n",
            " [27 55]\n",
            " [56 77]\n",
            " [47  2]\n",
            " [61 69]\n",
            " [35 15]\n",
            " [36  1]\n",
            " [64 65]\n",
            " [29 81]\n",
            " [37 78]\n",
            " [30 21]\n",
            " [52  1]\n",
            " [56 15]\n",
            " [41 31]\n",
            " [21 11]\n",
            " [23 98]\n",
            " [52 85]\n",
            " [48 34]\n",
            " [51 28]\n",
            " [52 26]\n",
            " [63 84]\n",
            " [41 58]\n",
            " [25 44]\n",
            " [19 76]\n",
            " [32 81]\n",
            " [21 43]\n",
            " [22 86]\n",
            " [49 93]\n",
            " [54 61]\n",
            " [44 85]\n",
            " [45 60]\n",
            " [64 83]\n",
            " [24 44]\n",
            " [24 69]\n",
            " [46 36]\n",
            " [47 57]\n",
            " [53 70]\n",
            " [18 31]\n",
            " [28 28]\n",
            " [43 49]\n",
            " [18 59]\n",
            " [36 72]\n",
            " [60 25]\n",
            " [36 75]\n",
            " [65 41]\n",
            " [21 65]\n",
            " [51 11]\n",
            " [29 87]\n",
            " [33 32]\n",
            " [55 11]\n",
            " [44 67]\n",
            " [38 86]\n",
            " [63 51]\n",
            " [26 59]\n",
            " [38  2]\n",
            " [47 13]\n",
            " [22 34]\n",
            " [26 32]\n",
            " [41 70]\n",
            " [63 68]\n",
            " [18 39]\n",
            " [60 34]\n",
            " [25 71]\n",
            " [27 27]\n",
            " [63 82]\n",
            " [34  7]\n",
            " [23  6]\n",
            " [18 82]\n",
            " [34 71]]\n"
          ]
        }
      ]
    },
    {
      "cell_type": "code",
      "source": [
        "print(y)"
      ],
      "metadata": {
        "colab": {
          "base_uri": "https://localhost:8080/"
        },
        "id": "6cmF9jZiV8Xa",
        "outputId": "e7a13f5f-de0a-4875-8281-79f0c76c3689"
      },
      "execution_count": 27,
      "outputs": [
        {
          "output_type": "stream",
          "name": "stdout",
          "text": [
            "[1 1 1 1 1 0 0 1 1 1 1 1 1 0 1 1 1 1 1 1 0 1 1 1 1 0 1 1 1 1 1 1 1 1 1 1 1\n",
            " 1 1 1 0 1 1 1 1 1 1 1 1 1 1 0 1 1 1 0 1 1 1 1 1 1 0 1 1 1 1 1 1 1 1 1 0 1\n",
            " 1 1 1 1 1 1 1 1 1 1 1 1 1 1 1 1 1 1 1 0 1 0 1 1 1 0]\n"
          ]
        }
      ]
    },
    {
      "cell_type": "code",
      "source": [
        "len(X)"
      ],
      "metadata": {
        "colab": {
          "base_uri": "https://localhost:8080/"
        },
        "id": "TQGv3tPKWFan",
        "outputId": "9ab99a6d-43af-4b08-e202-3c451b3f1337"
      },
      "execution_count": 28,
      "outputs": [
        {
          "output_type": "execute_result",
          "data": {
            "text/plain": [
              "100"
            ]
          },
          "metadata": {},
          "execution_count": 28
        }
      ]
    },
    {
      "cell_type": "code",
      "source": [
        "len(y)"
      ],
      "metadata": {
        "colab": {
          "base_uri": "https://localhost:8080/"
        },
        "id": "4MFU5mM5WKU6",
        "outputId": "28b1544d-b0bb-4b74-d60e-8a28e54e4dff"
      },
      "execution_count": 29,
      "outputs": [
        {
          "output_type": "execute_result",
          "data": {
            "text/plain": [
              "100"
            ]
          },
          "metadata": {},
          "execution_count": 29
        }
      ]
    },
    {
      "cell_type": "code",
      "source": [
        "# Membagi data menjadi latih dan uji\n",
        "from sklearn.model_selection import train_test_split\n",
        "X_latih, X_test, y_latih, y_test = train_test_split(X, y, test_size = 0.25, random_state = 0)"
      ],
      "metadata": {
        "id": "3HbLm0h6UR3m"
      },
      "execution_count": 30,
      "outputs": []
    },
    {
      "cell_type": "code",
      "source": [
        "print(X_latih)"
      ],
      "metadata": {
        "colab": {
          "base_uri": "https://localhost:8080/"
        },
        "id": "-WdUPqdFWOgB",
        "outputId": "ff70248d-b457-464c-cc2b-0c038a64002b"
      },
      "execution_count": 31,
      "outputs": [
        {
          "output_type": "stream",
          "name": "stdout",
          "text": [
            "[[48 34]\n",
            " [52 76]\n",
            " [34 71]\n",
            " [38 86]\n",
            " [21 65]\n",
            " [44 85]\n",
            " [55 11]\n",
            " [63 68]\n",
            " [18 31]\n",
            " [63 84]\n",
            " [59 18]\n",
            " [41 35]\n",
            " [21 43]\n",
            " [24 44]\n",
            " [36 75]\n",
            " [33 14]\n",
            " [45 60]\n",
            " [52  1]\n",
            " [30 21]\n",
            " [31  4]\n",
            " [20 38]\n",
            " [35 21]\n",
            " [37 78]\n",
            " [64 65]\n",
            " [53 90]\n",
            " [18 39]\n",
            " [54 61]\n",
            " [58 36]\n",
            " [47  2]\n",
            " [33 34]\n",
            " [52 26]\n",
            " [40 94]\n",
            " [61 69]\n",
            " [38  8]\n",
            " [41 58]\n",
            " [24 46]\n",
            " [49 15]\n",
            " [47 57]\n",
            " [22 86]\n",
            " [33 32]\n",
            " [38  2]\n",
            " [27 55]\n",
            " [26 59]\n",
            " [41  9]\n",
            " [41 70]\n",
            " [62 10]\n",
            " [65 52]\n",
            " [51 28]\n",
            " [23  6]\n",
            " [18 82]\n",
            " [28 28]\n",
            " [56 94]\n",
            " [27 27]\n",
            " [36 72]\n",
            " [51 11]\n",
            " [35 92]\n",
            " [36  1]\n",
            " [44 67]\n",
            " [23 98]\n",
            " [29 81]\n",
            " [46 36]\n",
            " [49 93]\n",
            " [47 11]\n",
            " [26 32]\n",
            " [43 49]\n",
            " [22 34]\n",
            " [35 15]\n",
            " [33 35]\n",
            " [63 51]\n",
            " [27 44]\n",
            " [34  7]\n",
            " [53 70]\n",
            " [24 69]\n",
            " [52 85]\n",
            " [41 31]]\n"
          ]
        }
      ]
    },
    {
      "cell_type": "code",
      "source": [
        "len(X_latih)"
      ],
      "metadata": {
        "colab": {
          "base_uri": "https://localhost:8080/"
        },
        "id": "xT8mIjQ9Wa9W",
        "outputId": "e39444d0-942c-40f5-fa57-8361d3ccb4a7"
      },
      "execution_count": 34,
      "outputs": [
        {
          "output_type": "execute_result",
          "data": {
            "text/plain": [
              "75"
            ]
          },
          "metadata": {},
          "execution_count": 34
        }
      ]
    },
    {
      "cell_type": "code",
      "source": [
        "len(X_test)"
      ],
      "metadata": {
        "colab": {
          "base_uri": "https://localhost:8080/"
        },
        "id": "x62wIKKvWdug",
        "outputId": "8ccd2077-5170-440f-a922-61ab880661ae"
      },
      "execution_count": 35,
      "outputs": [
        {
          "output_type": "execute_result",
          "data": {
            "text/plain": [
              "25"
            ]
          },
          "metadata": {},
          "execution_count": 35
        }
      ]
    },
    {
      "cell_type": "code",
      "source": [
        "# Feature scaling\n",
        "from sklearn.preprocessing import StandardScaler\n",
        "sc = StandardScaler()\n",
        "X_latih = sc.fit_transform(X_latih)\n",
        "X_test = sc.transform(X_test)"
      ],
      "metadata": {
        "id": "lubsBdTvUWmv"
      },
      "execution_count": 37,
      "outputs": []
    },
    {
      "cell_type": "code",
      "source": [
        "print(X_latih)"
      ],
      "metadata": {
        "colab": {
          "base_uri": "https://localhost:8080/"
        },
        "id": "mQMqGcoGWkFC",
        "outputId": "03afe523-3798-4ecb-a055-cb27c9745071"
      },
      "execution_count": 38,
      "outputs": [
        {
          "output_type": "stream",
          "name": "stdout",
          "text": [
            "[[ 0.62102502 -0.43622674]\n",
            " [ 0.92445744  1.03027723]\n",
            " [-0.44098845  0.85569343]\n",
            " [-0.13755603  1.37944484]\n",
            " [-1.42714382  0.64619286]\n",
            " [ 0.3175926   1.34452808]\n",
            " [ 1.15203176 -1.23931224]\n",
            " [ 1.7588966   0.75094314]\n",
            " [-1.65471814 -0.54097702]\n",
            " [ 1.7588966   1.30961132]\n",
            " [ 1.45546418 -0.99489491]\n",
            " [ 0.09001829 -0.40130997]\n",
            " [-1.42714382 -0.12197589]\n",
            " [-1.19956951 -0.08705912]\n",
            " [-0.28927224  0.99536047]\n",
            " [-0.51684656 -1.13456196]\n",
            " [ 0.39345071  0.47160905]\n",
            " [ 0.92445744 -1.58847985]\n",
            " [-0.74442087 -0.89014463]\n",
            " [-0.66856277 -1.48372957]\n",
            " [-1.50300193 -0.29655969]\n",
            " [-0.36513035 -0.89014463]\n",
            " [-0.21341414  1.10011075]\n",
            " [ 1.83475471  0.64619286]\n",
            " [ 1.00031555  1.51911189]\n",
            " [-1.65471814 -0.26164293]\n",
            " [ 1.07617366  0.50652581]\n",
            " [ 1.37960608 -0.36639321]\n",
            " [ 0.54516692 -1.55356309]\n",
            " [-0.51684656 -0.43622674]\n",
            " [ 0.92445744 -0.71556082]\n",
            " [ 0.01416018  1.65877893]\n",
            " [ 1.60718039  0.7858599 ]\n",
            " [-0.13755603 -1.34406253]\n",
            " [ 0.09001829  0.40177553]\n",
            " [-1.19956951 -0.0172256 ]\n",
            " [ 0.69688313 -1.0996452 ]\n",
            " [ 0.54516692  0.36685877]\n",
            " [-1.35128572  1.37944484]\n",
            " [-0.51684656 -0.50606026]\n",
            " [-0.13755603 -1.55356309]\n",
            " [-0.97199519  0.29702525]\n",
            " [-1.0478533   0.43669229]\n",
            " [ 0.09001829 -1.30914576]\n",
            " [ 0.09001829  0.82077667]\n",
            " [ 1.6830385  -1.274229  ]\n",
            " [ 1.91061281  0.19227496]\n",
            " [ 0.84859934 -0.6457273 ]\n",
            " [-1.27542761 -1.41389605]\n",
            " [-1.65471814  1.2397778 ]\n",
            " [-0.89613709 -0.6457273 ]\n",
            " [ 1.22788987  1.65877893]\n",
            " [-0.97199519 -0.68064406]\n",
            " [-0.28927224  0.89061019]\n",
            " [ 0.84859934 -1.23931224]\n",
            " [-0.36513035  1.58894541]\n",
            " [-0.28927224 -1.58847985]\n",
            " [ 0.3175926   0.71602638]\n",
            " [-1.27542761  1.79844598]\n",
            " [-0.82027898  1.20486104]\n",
            " [ 0.46930881 -0.36639321]\n",
            " [ 0.69688313  1.62386217]\n",
            " [ 0.54516692 -1.23931224]\n",
            " [-1.0478533  -0.50606026]\n",
            " [ 0.2417345   0.08752468]\n",
            " [-1.35128572 -0.43622674]\n",
            " [-0.36513035 -1.0996452 ]\n",
            " [-0.51684656 -0.40130997]\n",
            " [ 1.7588966   0.1573582 ]\n",
            " [-0.97199519 -0.08705912]\n",
            " [-0.44098845 -1.37897929]\n",
            " [ 1.00031555  0.82077667]\n",
            " [-1.19956951  0.7858599 ]\n",
            " [ 0.92445744  1.34452808]\n",
            " [ 0.09001829 -0.54097702]]\n"
          ]
        }
      ]
    },
    {
      "cell_type": "code",
      "source": [
        "print(X_test)"
      ],
      "metadata": {
        "colab": {
          "base_uri": "https://localhost:8080/"
        },
        "id": "yjgFjTDdWrzG",
        "outputId": "fd0dd564-1375-41aa-a08f-fa092579415a"
      },
      "execution_count": 39,
      "outputs": [
        {
          "output_type": "stream",
          "name": "stdout",
          "text": [
            "[[-0.13755603  0.1573582 ]\n",
            " [ 0.54516692 -1.16947872]\n",
            " [ 1.60718039 -1.20439548]\n",
            " [-0.59270466  1.20486104]\n",
            " [ 1.91061281 -0.19180941]\n",
            " [-1.1237114   0.85569343]\n",
            " [-1.27542761  0.08752468]\n",
            " [ 1.53132229 -0.75047759]\n",
            " [-1.57886003  1.03027723]\n",
            " [ 1.7588966   1.2397778 ]\n",
            " [-1.1237114  -0.08705912]\n",
            " [ 1.53132229 -0.43622674]\n",
            " [-0.82027898  1.4143616 ]\n",
            " [ 1.00031555  1.16994428]\n",
            " [-0.36513035  1.79844598]\n",
            " [ 0.09001829  0.68110962]\n",
            " [ 1.37960608  1.44927837]\n",
            " [-0.59270466  0.19227496]\n",
            " [ 1.22788987  1.06519399]\n",
            " [-0.89613709 -0.36639321]\n",
            " [ 1.22788987 -1.0996452 ]\n",
            " [ 1.83475471  1.27469456]\n",
            " [ 1.15203176 -1.20439548]\n",
            " [-1.65471814  0.43669229]\n",
            " [-1.42714382 -1.23931224]]\n"
          ]
        }
      ]
    },
    {
      "cell_type": "code",
      "source": [
        "# Membuat model K-NN\n",
        "from sklearn.neighbors import KNeighborsClassifier\n",
        "classifier = KNeighborsClassifier(n_neighbors = 5, metric = 'minkowski', p = 2)\n",
        "classifier.fit(X_latih, y_latih)"
      ],
      "metadata": {
        "colab": {
          "base_uri": "https://localhost:8080/",
          "height": 80
        },
        "id": "uvBDp-HuUbGu",
        "outputId": "6da37091-be29-4d74-e3e8-d096c72ded83"
      },
      "execution_count": 40,
      "outputs": [
        {
          "output_type": "execute_result",
          "data": {
            "text/plain": [
              "KNeighborsClassifier()"
            ],
            "text/html": [
              "<style>#sk-container-id-2 {\n",
              "  /* Definition of color scheme common for light and dark mode */\n",
              "  --sklearn-color-text: #000;\n",
              "  --sklearn-color-text-muted: #666;\n",
              "  --sklearn-color-line: gray;\n",
              "  /* Definition of color scheme for unfitted estimators */\n",
              "  --sklearn-color-unfitted-level-0: #fff5e6;\n",
              "  --sklearn-color-unfitted-level-1: #f6e4d2;\n",
              "  --sklearn-color-unfitted-level-2: #ffe0b3;\n",
              "  --sklearn-color-unfitted-level-3: chocolate;\n",
              "  /* Definition of color scheme for fitted estimators */\n",
              "  --sklearn-color-fitted-level-0: #f0f8ff;\n",
              "  --sklearn-color-fitted-level-1: #d4ebff;\n",
              "  --sklearn-color-fitted-level-2: #b3dbfd;\n",
              "  --sklearn-color-fitted-level-3: cornflowerblue;\n",
              "\n",
              "  /* Specific color for light theme */\n",
              "  --sklearn-color-text-on-default-background: var(--sg-text-color, var(--theme-code-foreground, var(--jp-content-font-color1, black)));\n",
              "  --sklearn-color-background: var(--sg-background-color, var(--theme-background, var(--jp-layout-color0, white)));\n",
              "  --sklearn-color-border-box: var(--sg-text-color, var(--theme-code-foreground, var(--jp-content-font-color1, black)));\n",
              "  --sklearn-color-icon: #696969;\n",
              "\n",
              "  @media (prefers-color-scheme: dark) {\n",
              "    /* Redefinition of color scheme for dark theme */\n",
              "    --sklearn-color-text-on-default-background: var(--sg-text-color, var(--theme-code-foreground, var(--jp-content-font-color1, white)));\n",
              "    --sklearn-color-background: var(--sg-background-color, var(--theme-background, var(--jp-layout-color0, #111)));\n",
              "    --sklearn-color-border-box: var(--sg-text-color, var(--theme-code-foreground, var(--jp-content-font-color1, white)));\n",
              "    --sklearn-color-icon: #878787;\n",
              "  }\n",
              "}\n",
              "\n",
              "#sk-container-id-2 {\n",
              "  color: var(--sklearn-color-text);\n",
              "}\n",
              "\n",
              "#sk-container-id-2 pre {\n",
              "  padding: 0;\n",
              "}\n",
              "\n",
              "#sk-container-id-2 input.sk-hidden--visually {\n",
              "  border: 0;\n",
              "  clip: rect(1px 1px 1px 1px);\n",
              "  clip: rect(1px, 1px, 1px, 1px);\n",
              "  height: 1px;\n",
              "  margin: -1px;\n",
              "  overflow: hidden;\n",
              "  padding: 0;\n",
              "  position: absolute;\n",
              "  width: 1px;\n",
              "}\n",
              "\n",
              "#sk-container-id-2 div.sk-dashed-wrapped {\n",
              "  border: 1px dashed var(--sklearn-color-line);\n",
              "  margin: 0 0.4em 0.5em 0.4em;\n",
              "  box-sizing: border-box;\n",
              "  padding-bottom: 0.4em;\n",
              "  background-color: var(--sklearn-color-background);\n",
              "}\n",
              "\n",
              "#sk-container-id-2 div.sk-container {\n",
              "  /* jupyter's `normalize.less` sets `[hidden] { display: none; }`\n",
              "     but bootstrap.min.css set `[hidden] { display: none !important; }`\n",
              "     so we also need the `!important` here to be able to override the\n",
              "     default hidden behavior on the sphinx rendered scikit-learn.org.\n",
              "     See: https://github.com/scikit-learn/scikit-learn/issues/21755 */\n",
              "  display: inline-block !important;\n",
              "  position: relative;\n",
              "}\n",
              "\n",
              "#sk-container-id-2 div.sk-text-repr-fallback {\n",
              "  display: none;\n",
              "}\n",
              "\n",
              "div.sk-parallel-item,\n",
              "div.sk-serial,\n",
              "div.sk-item {\n",
              "  /* draw centered vertical line to link estimators */\n",
              "  background-image: linear-gradient(var(--sklearn-color-text-on-default-background), var(--sklearn-color-text-on-default-background));\n",
              "  background-size: 2px 100%;\n",
              "  background-repeat: no-repeat;\n",
              "  background-position: center center;\n",
              "}\n",
              "\n",
              "/* Parallel-specific style estimator block */\n",
              "\n",
              "#sk-container-id-2 div.sk-parallel-item::after {\n",
              "  content: \"\";\n",
              "  width: 100%;\n",
              "  border-bottom: 2px solid var(--sklearn-color-text-on-default-background);\n",
              "  flex-grow: 1;\n",
              "}\n",
              "\n",
              "#sk-container-id-2 div.sk-parallel {\n",
              "  display: flex;\n",
              "  align-items: stretch;\n",
              "  justify-content: center;\n",
              "  background-color: var(--sklearn-color-background);\n",
              "  position: relative;\n",
              "}\n",
              "\n",
              "#sk-container-id-2 div.sk-parallel-item {\n",
              "  display: flex;\n",
              "  flex-direction: column;\n",
              "}\n",
              "\n",
              "#sk-container-id-2 div.sk-parallel-item:first-child::after {\n",
              "  align-self: flex-end;\n",
              "  width: 50%;\n",
              "}\n",
              "\n",
              "#sk-container-id-2 div.sk-parallel-item:last-child::after {\n",
              "  align-self: flex-start;\n",
              "  width: 50%;\n",
              "}\n",
              "\n",
              "#sk-container-id-2 div.sk-parallel-item:only-child::after {\n",
              "  width: 0;\n",
              "}\n",
              "\n",
              "/* Serial-specific style estimator block */\n",
              "\n",
              "#sk-container-id-2 div.sk-serial {\n",
              "  display: flex;\n",
              "  flex-direction: column;\n",
              "  align-items: center;\n",
              "  background-color: var(--sklearn-color-background);\n",
              "  padding-right: 1em;\n",
              "  padding-left: 1em;\n",
              "}\n",
              "\n",
              "\n",
              "/* Toggleable style: style used for estimator/Pipeline/ColumnTransformer box that is\n",
              "clickable and can be expanded/collapsed.\n",
              "- Pipeline and ColumnTransformer use this feature and define the default style\n",
              "- Estimators will overwrite some part of the style using the `sk-estimator` class\n",
              "*/\n",
              "\n",
              "/* Pipeline and ColumnTransformer style (default) */\n",
              "\n",
              "#sk-container-id-2 div.sk-toggleable {\n",
              "  /* Default theme specific background. It is overwritten whether we have a\n",
              "  specific estimator or a Pipeline/ColumnTransformer */\n",
              "  background-color: var(--sklearn-color-background);\n",
              "}\n",
              "\n",
              "/* Toggleable label */\n",
              "#sk-container-id-2 label.sk-toggleable__label {\n",
              "  cursor: pointer;\n",
              "  display: flex;\n",
              "  width: 100%;\n",
              "  margin-bottom: 0;\n",
              "  padding: 0.5em;\n",
              "  box-sizing: border-box;\n",
              "  text-align: center;\n",
              "  align-items: start;\n",
              "  justify-content: space-between;\n",
              "  gap: 0.5em;\n",
              "}\n",
              "\n",
              "#sk-container-id-2 label.sk-toggleable__label .caption {\n",
              "  font-size: 0.6rem;\n",
              "  font-weight: lighter;\n",
              "  color: var(--sklearn-color-text-muted);\n",
              "}\n",
              "\n",
              "#sk-container-id-2 label.sk-toggleable__label-arrow:before {\n",
              "  /* Arrow on the left of the label */\n",
              "  content: \"▸\";\n",
              "  float: left;\n",
              "  margin-right: 0.25em;\n",
              "  color: var(--sklearn-color-icon);\n",
              "}\n",
              "\n",
              "#sk-container-id-2 label.sk-toggleable__label-arrow:hover:before {\n",
              "  color: var(--sklearn-color-text);\n",
              "}\n",
              "\n",
              "/* Toggleable content - dropdown */\n",
              "\n",
              "#sk-container-id-2 div.sk-toggleable__content {\n",
              "  max-height: 0;\n",
              "  max-width: 0;\n",
              "  overflow: hidden;\n",
              "  text-align: left;\n",
              "  /* unfitted */\n",
              "  background-color: var(--sklearn-color-unfitted-level-0);\n",
              "}\n",
              "\n",
              "#sk-container-id-2 div.sk-toggleable__content.fitted {\n",
              "  /* fitted */\n",
              "  background-color: var(--sklearn-color-fitted-level-0);\n",
              "}\n",
              "\n",
              "#sk-container-id-2 div.sk-toggleable__content pre {\n",
              "  margin: 0.2em;\n",
              "  border-radius: 0.25em;\n",
              "  color: var(--sklearn-color-text);\n",
              "  /* unfitted */\n",
              "  background-color: var(--sklearn-color-unfitted-level-0);\n",
              "}\n",
              "\n",
              "#sk-container-id-2 div.sk-toggleable__content.fitted pre {\n",
              "  /* unfitted */\n",
              "  background-color: var(--sklearn-color-fitted-level-0);\n",
              "}\n",
              "\n",
              "#sk-container-id-2 input.sk-toggleable__control:checked~div.sk-toggleable__content {\n",
              "  /* Expand drop-down */\n",
              "  max-height: 200px;\n",
              "  max-width: 100%;\n",
              "  overflow: auto;\n",
              "}\n",
              "\n",
              "#sk-container-id-2 input.sk-toggleable__control:checked~label.sk-toggleable__label-arrow:before {\n",
              "  content: \"▾\";\n",
              "}\n",
              "\n",
              "/* Pipeline/ColumnTransformer-specific style */\n",
              "\n",
              "#sk-container-id-2 div.sk-label input.sk-toggleable__control:checked~label.sk-toggleable__label {\n",
              "  color: var(--sklearn-color-text);\n",
              "  background-color: var(--sklearn-color-unfitted-level-2);\n",
              "}\n",
              "\n",
              "#sk-container-id-2 div.sk-label.fitted input.sk-toggleable__control:checked~label.sk-toggleable__label {\n",
              "  background-color: var(--sklearn-color-fitted-level-2);\n",
              "}\n",
              "\n",
              "/* Estimator-specific style */\n",
              "\n",
              "/* Colorize estimator box */\n",
              "#sk-container-id-2 div.sk-estimator input.sk-toggleable__control:checked~label.sk-toggleable__label {\n",
              "  /* unfitted */\n",
              "  background-color: var(--sklearn-color-unfitted-level-2);\n",
              "}\n",
              "\n",
              "#sk-container-id-2 div.sk-estimator.fitted input.sk-toggleable__control:checked~label.sk-toggleable__label {\n",
              "  /* fitted */\n",
              "  background-color: var(--sklearn-color-fitted-level-2);\n",
              "}\n",
              "\n",
              "#sk-container-id-2 div.sk-label label.sk-toggleable__label,\n",
              "#sk-container-id-2 div.sk-label label {\n",
              "  /* The background is the default theme color */\n",
              "  color: var(--sklearn-color-text-on-default-background);\n",
              "}\n",
              "\n",
              "/* On hover, darken the color of the background */\n",
              "#sk-container-id-2 div.sk-label:hover label.sk-toggleable__label {\n",
              "  color: var(--sklearn-color-text);\n",
              "  background-color: var(--sklearn-color-unfitted-level-2);\n",
              "}\n",
              "\n",
              "/* Label box, darken color on hover, fitted */\n",
              "#sk-container-id-2 div.sk-label.fitted:hover label.sk-toggleable__label.fitted {\n",
              "  color: var(--sklearn-color-text);\n",
              "  background-color: var(--sklearn-color-fitted-level-2);\n",
              "}\n",
              "\n",
              "/* Estimator label */\n",
              "\n",
              "#sk-container-id-2 div.sk-label label {\n",
              "  font-family: monospace;\n",
              "  font-weight: bold;\n",
              "  display: inline-block;\n",
              "  line-height: 1.2em;\n",
              "}\n",
              "\n",
              "#sk-container-id-2 div.sk-label-container {\n",
              "  text-align: center;\n",
              "}\n",
              "\n",
              "/* Estimator-specific */\n",
              "#sk-container-id-2 div.sk-estimator {\n",
              "  font-family: monospace;\n",
              "  border: 1px dotted var(--sklearn-color-border-box);\n",
              "  border-radius: 0.25em;\n",
              "  box-sizing: border-box;\n",
              "  margin-bottom: 0.5em;\n",
              "  /* unfitted */\n",
              "  background-color: var(--sklearn-color-unfitted-level-0);\n",
              "}\n",
              "\n",
              "#sk-container-id-2 div.sk-estimator.fitted {\n",
              "  /* fitted */\n",
              "  background-color: var(--sklearn-color-fitted-level-0);\n",
              "}\n",
              "\n",
              "/* on hover */\n",
              "#sk-container-id-2 div.sk-estimator:hover {\n",
              "  /* unfitted */\n",
              "  background-color: var(--sklearn-color-unfitted-level-2);\n",
              "}\n",
              "\n",
              "#sk-container-id-2 div.sk-estimator.fitted:hover {\n",
              "  /* fitted */\n",
              "  background-color: var(--sklearn-color-fitted-level-2);\n",
              "}\n",
              "\n",
              "/* Specification for estimator info (e.g. \"i\" and \"?\") */\n",
              "\n",
              "/* Common style for \"i\" and \"?\" */\n",
              "\n",
              ".sk-estimator-doc-link,\n",
              "a:link.sk-estimator-doc-link,\n",
              "a:visited.sk-estimator-doc-link {\n",
              "  float: right;\n",
              "  font-size: smaller;\n",
              "  line-height: 1em;\n",
              "  font-family: monospace;\n",
              "  background-color: var(--sklearn-color-background);\n",
              "  border-radius: 1em;\n",
              "  height: 1em;\n",
              "  width: 1em;\n",
              "  text-decoration: none !important;\n",
              "  margin-left: 0.5em;\n",
              "  text-align: center;\n",
              "  /* unfitted */\n",
              "  border: var(--sklearn-color-unfitted-level-1) 1pt solid;\n",
              "  color: var(--sklearn-color-unfitted-level-1);\n",
              "}\n",
              "\n",
              ".sk-estimator-doc-link.fitted,\n",
              "a:link.sk-estimator-doc-link.fitted,\n",
              "a:visited.sk-estimator-doc-link.fitted {\n",
              "  /* fitted */\n",
              "  border: var(--sklearn-color-fitted-level-1) 1pt solid;\n",
              "  color: var(--sklearn-color-fitted-level-1);\n",
              "}\n",
              "\n",
              "/* On hover */\n",
              "div.sk-estimator:hover .sk-estimator-doc-link:hover,\n",
              ".sk-estimator-doc-link:hover,\n",
              "div.sk-label-container:hover .sk-estimator-doc-link:hover,\n",
              ".sk-estimator-doc-link:hover {\n",
              "  /* unfitted */\n",
              "  background-color: var(--sklearn-color-unfitted-level-3);\n",
              "  color: var(--sklearn-color-background);\n",
              "  text-decoration: none;\n",
              "}\n",
              "\n",
              "div.sk-estimator.fitted:hover .sk-estimator-doc-link.fitted:hover,\n",
              ".sk-estimator-doc-link.fitted:hover,\n",
              "div.sk-label-container:hover .sk-estimator-doc-link.fitted:hover,\n",
              ".sk-estimator-doc-link.fitted:hover {\n",
              "  /* fitted */\n",
              "  background-color: var(--sklearn-color-fitted-level-3);\n",
              "  color: var(--sklearn-color-background);\n",
              "  text-decoration: none;\n",
              "}\n",
              "\n",
              "/* Span, style for the box shown on hovering the info icon */\n",
              ".sk-estimator-doc-link span {\n",
              "  display: none;\n",
              "  z-index: 9999;\n",
              "  position: relative;\n",
              "  font-weight: normal;\n",
              "  right: .2ex;\n",
              "  padding: .5ex;\n",
              "  margin: .5ex;\n",
              "  width: min-content;\n",
              "  min-width: 20ex;\n",
              "  max-width: 50ex;\n",
              "  color: var(--sklearn-color-text);\n",
              "  box-shadow: 2pt 2pt 4pt #999;\n",
              "  /* unfitted */\n",
              "  background: var(--sklearn-color-unfitted-level-0);\n",
              "  border: .5pt solid var(--sklearn-color-unfitted-level-3);\n",
              "}\n",
              "\n",
              ".sk-estimator-doc-link.fitted span {\n",
              "  /* fitted */\n",
              "  background: var(--sklearn-color-fitted-level-0);\n",
              "  border: var(--sklearn-color-fitted-level-3);\n",
              "}\n",
              "\n",
              ".sk-estimator-doc-link:hover span {\n",
              "  display: block;\n",
              "}\n",
              "\n",
              "/* \"?\"-specific style due to the `<a>` HTML tag */\n",
              "\n",
              "#sk-container-id-2 a.estimator_doc_link {\n",
              "  float: right;\n",
              "  font-size: 1rem;\n",
              "  line-height: 1em;\n",
              "  font-family: monospace;\n",
              "  background-color: var(--sklearn-color-background);\n",
              "  border-radius: 1rem;\n",
              "  height: 1rem;\n",
              "  width: 1rem;\n",
              "  text-decoration: none;\n",
              "  /* unfitted */\n",
              "  color: var(--sklearn-color-unfitted-level-1);\n",
              "  border: var(--sklearn-color-unfitted-level-1) 1pt solid;\n",
              "}\n",
              "\n",
              "#sk-container-id-2 a.estimator_doc_link.fitted {\n",
              "  /* fitted */\n",
              "  border: var(--sklearn-color-fitted-level-1) 1pt solid;\n",
              "  color: var(--sklearn-color-fitted-level-1);\n",
              "}\n",
              "\n",
              "/* On hover */\n",
              "#sk-container-id-2 a.estimator_doc_link:hover {\n",
              "  /* unfitted */\n",
              "  background-color: var(--sklearn-color-unfitted-level-3);\n",
              "  color: var(--sklearn-color-background);\n",
              "  text-decoration: none;\n",
              "}\n",
              "\n",
              "#sk-container-id-2 a.estimator_doc_link.fitted:hover {\n",
              "  /* fitted */\n",
              "  background-color: var(--sklearn-color-fitted-level-3);\n",
              "}\n",
              "</style><div id=\"sk-container-id-2\" class=\"sk-top-container\"><div class=\"sk-text-repr-fallback\"><pre>KNeighborsClassifier()</pre><b>In a Jupyter environment, please rerun this cell to show the HTML representation or trust the notebook. <br />On GitHub, the HTML representation is unable to render, please try loading this page with nbviewer.org.</b></div><div class=\"sk-container\" hidden><div class=\"sk-item\"><div class=\"sk-estimator fitted sk-toggleable\"><input class=\"sk-toggleable__control sk-hidden--visually\" id=\"sk-estimator-id-2\" type=\"checkbox\" checked><label for=\"sk-estimator-id-2\" class=\"sk-toggleable__label fitted sk-toggleable__label-arrow\"><div><div>KNeighborsClassifier</div></div><div><a class=\"sk-estimator-doc-link fitted\" rel=\"noreferrer\" target=\"_blank\" href=\"https://scikit-learn.org/1.6/modules/generated/sklearn.neighbors.KNeighborsClassifier.html\">?<span>Documentation for KNeighborsClassifier</span></a><span class=\"sk-estimator-doc-link fitted\">i<span>Fitted</span></span></div></label><div class=\"sk-toggleable__content fitted\"><pre>KNeighborsClassifier()</pre></div> </div></div></div></div>"
            ]
          },
          "metadata": {},
          "execution_count": 40
        }
      ]
    },
    {
      "cell_type": "code",
      "source": [
        "# Prediksi data uji\n",
        "y_prediksi = classifier.predict(X_test)"
      ],
      "metadata": {
        "id": "RuA5R5OvUdpM"
      },
      "execution_count": 41,
      "outputs": []
    },
    {
      "cell_type": "code",
      "source": [
        "# Evaluasi model\n",
        "from sklearn.metrics import confusion_matrix, accuracy_score\n",
        "print(\"Confusion Matrix:\\n\", confusion_matrix(y_test, y_prediksi))\n",
        "print(\"Akurasi:\", accuracy_score(y_test, y_prediksi))\n",
        "print(\"Tingkat Akurasi:\", accuracy_score(y_test, y_prediksi) * 100, \"%\")"
      ],
      "metadata": {
        "colab": {
          "base_uri": "https://localhost:8080/"
        },
        "id": "kOW5p7y0UhmI",
        "outputId": "52438290-6443-4b3d-bb0d-2c6a027569fe"
      },
      "execution_count": 42,
      "outputs": [
        {
          "output_type": "stream",
          "name": "stdout",
          "text": [
            "Confusion Matrix:\n",
            " [[ 2  3]\n",
            " [ 1 19]]\n",
            "Akurasi: 0.84\n",
            "Tingkat Akurasi: 84.0 %\n"
          ]
        }
      ]
    },
    {
      "cell_type": "code",
      "source": [
        "from matplotlib.colors import ListedColormap\n",
        "X_data, y_data = X_latih, y_latih\n",
        "X_one, X_two = np.meshgrid(\n",
        "    np.arange(start = X_data[:, 0].min() - 1, stop = X_data[:, 0].max() + 1, step = 0.01),\n",
        "    np.arange(start = X_data[:, 1].min() - 1, stop = X_data[:, 1].max() + 1, step = 0.01)\n",
        ")\n",
        "\n",
        "plt.contourf(X_one, X_two, classifier.predict(np.array([X_one.ravel(), X_two.ravel()]).T).reshape(X_one.shape),\n",
        "             alpha = 0.75, cmap = ListedColormap(('red', 'green')))\n",
        "plt.xlim(X_one.min(), X_one.max())\n",
        "plt.ylim(X_two.min(), X_two.max())\n",
        "\n",
        "for i, j in enumerate(np.unique(y_data)):\n",
        "    plt.scatter(X_data[y_data == j, 0], X_data[y_data == j, 1],\n",
        "                c = ListedColormap(('red', 'green'))(i), label = le.inverse_transform([j])[0])\n",
        "\n",
        "plt.title('K-NN (Data Training)')\n",
        "plt.xlabel('Umur')\n",
        "plt.ylabel('Skor Belanja')\n",
        "plt.legend()\n",
        "plt.show()\n"
      ],
      "metadata": {
        "colab": {
          "base_uri": "https://localhost:8080/",
          "height": 563
        },
        "id": "IhYKFCvfUk0H",
        "outputId": "68237721-0f77-4fb7-c520-316b272daf3f"
      },
      "execution_count": 43,
      "outputs": [
        {
          "output_type": "stream",
          "name": "stderr",
          "text": [
            "<ipython-input-43-91932e0a34e8>:14: UserWarning: *c* argument looks like a single numeric RGB or RGBA sequence, which should be avoided as value-mapping will have precedence in case its length matches with *x* & *y*.  Please use the *color* keyword-argument or provide a 2D array with a single row if you intend to specify the same RGB or RGBA value for all points.\n",
            "  plt.scatter(X_data[y_data == j, 0], X_data[y_data == j, 1],\n",
            "<ipython-input-43-91932e0a34e8>:14: UserWarning: *c* argument looks like a single numeric RGB or RGBA sequence, which should be avoided as value-mapping will have precedence in case its length matches with *x* & *y*.  Please use the *color* keyword-argument or provide a 2D array with a single row if you intend to specify the same RGB or RGBA value for all points.\n",
            "  plt.scatter(X_data[y_data == j, 0], X_data[y_data == j, 1],\n"
          ]
        },
        {
          "output_type": "display_data",
          "data": {
            "text/plain": [
              "<Figure size 640x480 with 1 Axes>"
            ],
            "image/png": "[encoded data removed]"
          },
          "metadata": {}
        }
      ]
    },
    {
      "cell_type": "code",
      "source": [
        "from matplotlib.colors import ListedColormap\n",
        "X_data, y_data = X_test, y_test\n",
        "X_one, X_two = np.meshgrid(\n",
        "    np.arange(start = X_data[:, 0].min() - 1, stop = X_data[:, 0].max() + 1, step = 0.01),\n",
        "    np.arange(start = X_data[:, 1].min() - 1, stop = X_data[:, 1].max() + 1, step = 0.01)\n",
        ")\n",
        "\n",
        "plt.contourf(X_one, X_two, classifier.predict(np.array([X_one.ravel(), X_two.ravel()]).T).reshape(X_one.shape),\n",
        "             alpha = 0.75, cmap = ListedColormap(('red', 'green')))\n",
        "plt.xlim(X_one.min(), X_one.max())\n",
        "plt.ylim(X_two.min(), X_two.max())\n",
        "\n",
        "for i, j in enumerate(np.unique(y_data)):\n",
        "    plt.scatter(X_data[y_data == j, 0], X_data[y_data == j, 1],\n",
        "                c = ListedColormap(('red', 'green'))(i), label = le.inverse_transform([j])[0])\n",
        "\n",
        "plt.title('K-NN (Data Uji)')\n",
        "plt.xlabel('Umur')\n",
        "plt.ylabel('Skor Belanja')\n",
        "plt.legend()\n",
        "plt.show()\n"
      ],
      "metadata": {
        "colab": {
          "base_uri": "https://localhost:8080/",
          "height": 563
        },
        "id": "fK8tcyrcUomk",
        "outputId": "3a88dac3-99e7-4b43-8f14-b7a43f263891"
      },
      "execution_count": 44,
      "outputs": [
        {
          "output_type": "stream",
          "name": "stderr",
          "text": [
            "<ipython-input-44-a7858d51ece0>:14: UserWarning: *c* argument looks like a single numeric RGB or RGBA sequence, which should be avoided as value-mapping will have precedence in case its length matches with *x* & *y*.  Please use the *color* keyword-argument or provide a 2D array with a single row if you intend to specify the same RGB or RGBA value for all points.\n",
            "  plt.scatter(X_data[y_data == j, 0], X_data[y_data == j, 1],\n",
            "<ipython-input-44-a7858d51ece0>:14: UserWarning: *c* argument looks like a single numeric RGB or RGBA sequence, which should be avoided as value-mapping will have precedence in case its length matches with *x* & *y*.  Please use the *color* keyword-argument or provide a 2D array with a single row if you intend to specify the same RGB or RGBA value for all points.\n",
            "  plt.scatter(X_data[y_data == j, 0], X_data[y_data == j, 1],\n"
          ]
        },
        {
          "output_type": "display_data",
          "data": {
            "text/plain": [
              "<Figure size 640x480 with 1 Axes>"
            ],
            "image/png": "[encoded data removed]"
          },
          "metadata": {}
        }
      ]
    },
    {
      "cell_type": "code",
      "source": [],
      "metadata": {
        "id": "CIfMgx_JU2vX"
      },
      "execution_count": null,
      "outputs": []
    }
  ]
}